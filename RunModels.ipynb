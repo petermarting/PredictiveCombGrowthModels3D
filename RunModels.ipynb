{
 "cells": [
  {
   "cell_type": "code",
   "execution_count": 1,
   "id": "e24893d0-320d-417f-88e1-1b6a809cc8e0",
   "metadata": {},
   "outputs": [],
   "source": [
    "# Import required packages\n",
    "\n",
    "import sys\n",
    "import pandas as pd\n",
    "import numpy as np\n",
    "import cv2\n",
    "import matplotlib.pyplot as plt\n",
    "import seaborn as sns\n"
   ]
  },
  {
   "cell_type": "code",
   "execution_count": 2,
   "id": "232fea3f-fb2a-4448-b70b-ac0af58fd2a3",
   "metadata": {},
   "outputs": [],
   "source": [
    "# Import models and functions\n",
    "\n",
    "sys.path.append(r'C:\\Users\\prm0026\\Documents\\GitHub\\PredictiveCombGrowthModels3D\\Functions')\n",
    "from Functions_CombGrowthModels import arrange_nest\n",
    "from Functions_CombGrowthModels import model_dilation\n",
    "from Functions_CombGrowthModels import model_neighbor\n",
    "from Functions_CombGrowthModels import model_random_placement"
   ]
  },
  {
   "cell_type": "code",
   "execution_count": 3,
   "id": "9eeb88fb-7d28-46cd-bbc2-43ec79d9e5ef",
   "metadata": {},
   "outputs": [],
   "source": [
    "# Import data\n",
    "\n",
    "# dataframe with info on comb position and orientation\n",
    "data_path = 'C:/Users/prm0026/Documents/GitHub/PredictiveCombGrowthModels3D/Data/CombDataframe.csv'\n",
    "data = pd.read_csv(data_path, sep=',')\n",
    "\n",
    "# numpy array with all comb images for all colonies at all timepoints\n",
    "mask_path = 'C:/Users/prm0026/Documents/GitHub/PredictiveCombGrowthModels3D/Data/CombMaskArray.npy'\n",
    "masks = np.load(mask_path)\n",
    "\n",
    "# colony names list\n",
    "colonyNamesAll = [\n",
    "    'DD1',\n",
    "    'DD2',\n",
    "    'DD4',\n",
    "    'DD5',\n",
    "    'DD6',\n",
    "    'DD7',\n",
    "    'SH2',\n",
    "    'SH3',\n",
    "    'SH4',\n",
    "    'SH5',\n",
    "    'SH6',\n",
    "    'SH7'\n",
    "        ]"
   ]
  },
  {
   "cell_type": "code",
   "execution_count": 5,
   "id": "486d8402-7de1-4c55-b2fb-b28860f6343f",
   "metadata": {},
   "outputs": [
    {
     "name": "stderr",
     "output_type": "stream",
     "text": [
      "C:\\Users\\prm0026\\Box\\3D_nest_2021\\initial_nest\\Functions_CombGrowthModels.py:317: RuntimeWarning: overflow encountered in ulong_scalars\n",
      "  areamatch = ((np.sum(masksweekpred)-np.sum(masksweekobs))/np.sum(masksweekobs))*100 # a check to see how close the total predicted area is to the observed area (should be about 100%)\n",
      "C:\\Users\\prm0026\\Box\\3D_nest_2021\\initial_nest\\Functions_CombGrowthModels.py:317: RuntimeWarning: overflow encountered in ulong_scalars\n",
      "  areamatch = ((np.sum(masksweekpred)-np.sum(masksweekobs))/np.sum(masksweekobs))*100 # a check to see how close the total predicted area is to the observed area (should be about 100%)\n",
      "C:\\Users\\prm0026\\Box\\3D_nest_2021\\initial_nest\\Functions_CombGrowthModels.py:239: RuntimeWarning: overflow encountered in ulong_scalars\n",
      "  areamatch = ((np.sum(masksweekpred)-np.sum(masksweekobs))/np.sum(masksweekobs))*100 # a check to see how close the total predicted area is to the observed area (should be about 100%)\n"
     ]
    },
    {
     "data": {
      "text/html": [
       "<div>\n",
       "<style scoped>\n",
       "    .dataframe tbody tr th:only-of-type {\n",
       "        vertical-align: middle;\n",
       "    }\n",
       "\n",
       "    .dataframe tbody tr th {\n",
       "        vertical-align: top;\n",
       "    }\n",
       "\n",
       "    .dataframe thead th {\n",
       "        text-align: right;\n",
       "    }\n",
       "</style>\n",
       "<table border=\"1\" class=\"dataframe\">\n",
       "  <thead>\n",
       "    <tr style=\"text-align: right;\">\n",
       "      <th></th>\n",
       "      <th>colony</th>\n",
       "      <th>treatment</th>\n",
       "      <th>week</th>\n",
       "      <th>accuracyrand</th>\n",
       "      <th>accuracydilate</th>\n",
       "      <th>accuracyneib</th>\n",
       "    </tr>\n",
       "  </thead>\n",
       "  <tbody>\n",
       "    <tr>\n",
       "      <th>0</th>\n",
       "      <td>DD1</td>\n",
       "      <td>DD</td>\n",
       "      <td>1</td>\n",
       "      <td>22.895183</td>\n",
       "      <td>75.46119</td>\n",
       "      <td>54.876616</td>\n",
       "    </tr>\n",
       "    <tr>\n",
       "      <th>1</th>\n",
       "      <td>DD1</td>\n",
       "      <td>DD</td>\n",
       "      <td>2</td>\n",
       "      <td>21.558005</td>\n",
       "      <td>69.872206</td>\n",
       "      <td>67.171292</td>\n",
       "    </tr>\n",
       "    <tr>\n",
       "      <th>2</th>\n",
       "      <td>DD1</td>\n",
       "      <td>DD</td>\n",
       "      <td>3</td>\n",
       "      <td>29.504016</td>\n",
       "      <td>83.426107</td>\n",
       "      <td>56.64242</td>\n",
       "    </tr>\n",
       "    <tr>\n",
       "      <th>3</th>\n",
       "      <td>DD1</td>\n",
       "      <td>DD</td>\n",
       "      <td>4</td>\n",
       "      <td>32.80083</td>\n",
       "      <td>72.675246</td>\n",
       "      <td>57.091646</td>\n",
       "    </tr>\n",
       "    <tr>\n",
       "      <th>4</th>\n",
       "      <td>DD1</td>\n",
       "      <td>DD</td>\n",
       "      <td>5</td>\n",
       "      <td>33.70333</td>\n",
       "      <td>79.215102</td>\n",
       "      <td>75.996249</td>\n",
       "    </tr>\n",
       "  </tbody>\n",
       "</table>\n",
       "</div>"
      ],
      "text/plain": [
       "  colony treatment week accuracyrand accuracydilate accuracyneib\n",
       "0    DD1        DD    1    22.895183       75.46119    54.876616\n",
       "1    DD1        DD    2    21.558005      69.872206    67.171292\n",
       "2    DD1        DD    3    29.504016      83.426107     56.64242\n",
       "3    DD1        DD    4     32.80083      72.675246    57.091646\n",
       "4    DD1        DD    5     33.70333      79.215102    75.996249"
      ]
     },
     "execution_count": 5,
     "metadata": {},
     "output_type": "execute_result"
    }
   ],
   "source": [
    "# Run all models\n",
    "\n",
    "# see Functions_CombGrowthModels.py for detailed annotations of each model\n",
    "\n",
    "masks = masks\n",
    "colonynames = colonyNamesAll\n",
    "data = data\n",
    "\n",
    "treatment = 'DD' # define treatment as control (DD) for dataframe, (will change later)\n",
    "\n",
    "df_model_compare = pd.DataFrame(columns=['colony', 'treatment', 'week', 'accuracyrand', 'accuracydilate', 'accuracyneib',]) # create dataframe to save model results to\n",
    "\n",
    "for c in range(len(masks)): # for all colonies\n",
    "    for w in range(len(masks[c])-1): # and all weeks\n",
    "    \n",
    "        # Dilation model\n",
    "        masksweek, masksweekobs, masksweekpreddilate, accuracydilate, areamatchdilate = model_dilation(masks, c, w, data, colonynames, xbeespace=0, ybeespace=10)\n",
    "        \n",
    "        # Neighbor model\n",
    "        masksweek, masksweekobs, masksweekpredneib, accuracyneib, areamatchneib = model_neighbor(masks, c, w, data, colonynames, second_round=True, downsample=True)\n",
    "        \n",
    "        #Random placement model\n",
    "        masksweek, masksweekobs, masksweekpredrand, accuracyrand, areamatchrand = model_random_placement(masks, c, w, data, colonynames, allsides=False, downsample=True)\n",
    "        \n",
    "        if c>5: # when colony value is greater 5, change treatment to shuffle\n",
    "            treatment = 'SH'\n",
    "\n",
    "        df_new = pd.DataFrame({'colony':[colonynames[c]], # create new dataframe with values from current nest\n",
    "                              'treatment':[treatment],\n",
    "                              'week':[w+1],\n",
    "                              'accuracyrand':[accuracyrand],\n",
    "                              'accuracydilate': [accuracydilate],\n",
    "                              'accuracyneib':[accuracyneib],\n",
    "                              })\n",
    "        df_model_compare = pd.concat([df_model_compare,df_new]).reset_index(drop=True)\n",
    "\n",
    "df_model_compare.head()"
   ]
  },
  {
   "cell_type": "code",
   "execution_count": 19,
   "id": "2fba2a25-b810-42e8-ac2f-117eb50207e1",
   "metadata": {},
   "outputs": [
    {
     "data": {
      "image/png": "[encoded data removed]",
      "text/plain": [
       "<Figure size 504x432 with 1 Axes>"
      ]
     },
     "metadata": {
      "needs_background": "light"
     },
     "output_type": "display_data"
    }
   ],
   "source": [
    "# convert dataframe from wide to long and plot the results\n",
    "\n",
    "df_model_compare_longall = pd.melt(df_model_compare, id_vars=['colony', 'treatment', 'week'], value_vars=['accuracyrand', 'accuracydilate', 'accuracyneib'])\n",
    "df_model_compare_longall = df_model_compare_longall.rename(columns={\"variable\": \"model\", \"value\": \"accuracy\"})\n",
    "df_model_compare_longall['model'] = df_model_compare_longall['model'].str.replace('accuracyrand','random_placement')\n",
    "df_model_compare_longall['model'] = df_model_compare_longall['model'].str.replace('accuracydilate','equal_dilation')\n",
    "df_model_compare_longall['model'] = df_model_compare_longall['model'].str.replace('accuracyneib','neib_adder')\n",
    "\n",
    "plt.figure(figsize=(7,6))\n",
    "ax = sns.pointplot(data=df_model_compare_longall,\n",
    "              x='model',\n",
    "              y='accuracy',\n",
    "              hue='treatment',\n",
    "              dodge=True,\n",
    "              capsize=.02,\n",
    "              palette='viridis',\n",
    "              join=False,\n",
    "                    )\n",
    "plt.legend(frameon=False)\n",
    "labels = ['Random placement', 'Dilation model', 'Neighbor model']\n",
    "x = np.arange(len(labels)) \n",
    "plt.xticks(x, labels)\n",
    "plt.ylabel('Predicted nest shape accuracy (%)')\n",
    "plt.xlabel('')\n",
    "sns.despine()\n"
   ]
  },
  {
   "cell_type": "code",
   "execution_count": null,
   "id": "a70f96f2-50a6-406c-a7ce-c5e6be29efcf",
   "metadata": {},
   "outputs": [],
   "source": []
  }
 ],
 "metadata": {
  "kernelspec": {
   "display_name": "Python 3 (ipykernel)",
   "language": "python",
   "name": "python3"
  },
  "language_info": {
   "codemirror_mode": {
    "name": "ipython",
    "version": 3
   },
   "file_extension": ".py",
   "mimetype": "text/x-python",
   "name": "python",
   "nbconvert_exporter": "python",
   "pygments_lexer": "ipython3",
   "version": "3.9.12"
  }
 },
 "nbformat": 4,
 "nbformat_minor": 5
}
